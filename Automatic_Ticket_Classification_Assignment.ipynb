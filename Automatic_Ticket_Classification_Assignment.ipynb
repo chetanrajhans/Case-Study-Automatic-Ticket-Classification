{
 "cells": [
  {
   "cell_type": "markdown",
   "metadata": {
    "id": "rhR-ZUkwJrFn"
   },
   "source": [
    "## Problem Statement\n",
    "\n",
    "You need to build a model that is able to classify customer complaints based on the products/services. By doing so, you can segregate these tickets into their relevant categories and, therefore, help in the quick resolution of the issue.\n",
    "\n",
    "You will be doing topic modelling on the <b>.json</b> data provided by the company. Since this data is not labelled, you need to apply NMF to analyse patterns and classify tickets into the following five clusters based on their products/services:\n",
    "\n",
    "* Credit card / Prepaid card\n",
    "\n",
    "* Bank account services\n",
    "\n",
    "* Theft/Dispute reporting\n",
    "\n",
    "* Mortgages/loans\n",
    "\n",
    "* Others\n",
    "\n",
    "\n",
    "With the help of topic modelling, you will be able to map each ticket onto its respective department/category. You can then use this data to train any supervised model such as logistic regression, decision tree or random forest. Using this trained model, you can classify any new customer complaint support ticket into its relevant department."
   ]
  },
  {
   "cell_type": "markdown",
   "metadata": {
    "id": "mcgXVNyaLUFS"
   },
   "source": [
    "## Pipelines that needs to be performed:\n",
    "\n",
    "You need to perform the following eight major tasks to complete the assignment:\n",
    "\n",
    "1.  Data loading\n",
    "\n",
    "2. Text preprocessing\n",
    "\n",
    "3. Exploratory data analysis (EDA)\n",
    "\n",
    "4. Feature extraction\n",
    "\n",
    "5. Topic modelling\n",
    "\n",
    "6. Model building using supervised learning\n",
    "\n",
    "7. Model training and evaluation\n",
    "\n",
    "8. Model inference"
   ]
  },
  {
   "cell_type": "markdown",
   "metadata": {
    "id": "JuLFIymAL58u"
   },
   "source": [
    "## Importing the necessary libraries"
   ]
  },
  {
   "cell_type": "code",
   "execution_count": 45,
   "metadata": {
    "id": "O-Q9pqrcJrFr"
   },
   "outputs": [],
   "source": [
    "import json\n",
    "import numpy as np\n",
    "import pandas as pd\n",
    "import re, nltk, spacy, string\n",
    "import en_core_web_sm\n",
    "from tqdm import tqdm\n",
    "nlp = en_core_web_sm.load()\n",
    "import seaborn as sns\n",
    "import matplotlib.pyplot as plt\n",
    "%matplotlib inline\n",
    "\n",
    "from plotly.offline import plot\n",
    "import plotly.graph_objects as go\n",
    "import plotly.express as px\n",
    "\n",
    "from sklearn.feature_extraction.text import CountVectorizer, TfidfVectorizer\n",
    "from pprint import pprint\n",
    "\n",
    "from nltk.stem import WordNetLemmatizer\n",
    "# hide warnings\n",
    "import warnings\n",
    "warnings.filterwarnings('ignore')"
   ]
  },
  {
   "cell_type": "code",
   "execution_count": 109,
   "metadata": {},
   "outputs": [],
   "source": [
    "from nltk.stem import WordNetLemmatizer\n",
    "from nltk.tokenize import word_tokenize\n",
    "from nltk import pos_tag\n",
    "\n",
    "#nltk.download('punkt')\n",
    "#nltk.download('averaged_perceptron_tagger')\n",
    "#nltk.download('wordnet')\n",
    "#nltk.download('averaged_perceptron_tagger_eng')"
   ]
  },
  {
   "cell_type": "code",
   "execution_count": 5,
   "metadata": {},
   "outputs": [],
   "source": [
    "# change the display properties of pandas\n",
    "pd.set_option('display.max_colwidth', 100)\n",
    "#pd.set_option('display.max_columns', None)\n",
    "#pd.set_option('display.max_rows', None)"
   ]
  },
  {
   "cell_type": "markdown",
   "metadata": {
    "id": "KtRLCsNVJrFt"
   },
   "source": [
    "## Loading the data\n",
    "\n",
    "The data is in JSON format and we need to convert it to a dataframe."
   ]
  },
  {
   "cell_type": "code",
   "execution_count": 7,
   "metadata": {
    "id": "puVzIf_iJrFt"
   },
   "outputs": [],
   "source": [
    "# Opening JSON file\n",
    "f = open('complaints-2021-05-14_08_16.json')\n",
    "\n",
    "# returns JSON object as\n",
    "# a dictionary\n",
    "data = json.load(f)\n",
    "df=pd.json_normalize(data)"
   ]
  },
  {
   "cell_type": "markdown",
   "metadata": {
    "id": "_xYpH-sAJrFu"
   },
   "source": [
    "## Data preparation"
   ]
  },
  {
   "cell_type": "code",
   "execution_count": 9,
   "metadata": {
    "id": "Lf8ufHH5JrFu"
   },
   "outputs": [
    {
     "data": {
      "text/html": [
       "<div>\n",
       "<style scoped>\n",
       "    .dataframe tbody tr th:only-of-type {\n",
       "        vertical-align: middle;\n",
       "    }\n",
       "\n",
       "    .dataframe tbody tr th {\n",
       "        vertical-align: top;\n",
       "    }\n",
       "\n",
       "    .dataframe thead th {\n",
       "        text-align: right;\n",
       "    }\n",
       "</style>\n",
       "<table border=\"1\" class=\"dataframe\">\n",
       "  <thead>\n",
       "    <tr style=\"text-align: right;\">\n",
       "      <th></th>\n",
       "      <th>_index</th>\n",
       "      <th>_type</th>\n",
       "      <th>_id</th>\n",
       "      <th>_score</th>\n",
       "      <th>_source.tags</th>\n",
       "      <th>_source.zip_code</th>\n",
       "      <th>_source.complaint_id</th>\n",
       "      <th>_source.issue</th>\n",
       "      <th>_source.date_received</th>\n",
       "      <th>_source.state</th>\n",
       "      <th>...</th>\n",
       "      <th>_source.company_response</th>\n",
       "      <th>_source.company</th>\n",
       "      <th>_source.submitted_via</th>\n",
       "      <th>_source.date_sent_to_company</th>\n",
       "      <th>_source.company_public_response</th>\n",
       "      <th>_source.sub_product</th>\n",
       "      <th>_source.timely</th>\n",
       "      <th>_source.complaint_what_happened</th>\n",
       "      <th>_source.sub_issue</th>\n",
       "      <th>_source.consumer_consent_provided</th>\n",
       "    </tr>\n",
       "  </thead>\n",
       "  <tbody>\n",
       "    <tr>\n",
       "      <th>0</th>\n",
       "      <td>complaint-public-v2</td>\n",
       "      <td>complaint</td>\n",
       "      <td>3211475</td>\n",
       "      <td>0.0</td>\n",
       "      <td>None</td>\n",
       "      <td>90301</td>\n",
       "      <td>3211475</td>\n",
       "      <td>Attempts to collect debt not owed</td>\n",
       "      <td>2019-04-13T12:00:00-05:00</td>\n",
       "      <td>CA</td>\n",
       "      <td>...</td>\n",
       "      <td>Closed with explanation</td>\n",
       "      <td>JPMORGAN CHASE &amp; CO.</td>\n",
       "      <td>Web</td>\n",
       "      <td>2019-04-13T12:00:00-05:00</td>\n",
       "      <td>None</td>\n",
       "      <td>Credit card debt</td>\n",
       "      <td>Yes</td>\n",
       "      <td></td>\n",
       "      <td>Debt is not yours</td>\n",
       "      <td>Consent not provided</td>\n",
       "    </tr>\n",
       "    <tr>\n",
       "      <th>1</th>\n",
       "      <td>complaint-public-v2</td>\n",
       "      <td>complaint</td>\n",
       "      <td>3229299</td>\n",
       "      <td>0.0</td>\n",
       "      <td>Servicemember</td>\n",
       "      <td>319XX</td>\n",
       "      <td>3229299</td>\n",
       "      <td>Written notification about debt</td>\n",
       "      <td>2019-05-01T12:00:00-05:00</td>\n",
       "      <td>GA</td>\n",
       "      <td>...</td>\n",
       "      <td>Closed with explanation</td>\n",
       "      <td>JPMORGAN CHASE &amp; CO.</td>\n",
       "      <td>Web</td>\n",
       "      <td>2019-05-01T12:00:00-05:00</td>\n",
       "      <td>None</td>\n",
       "      <td>Credit card debt</td>\n",
       "      <td>Yes</td>\n",
       "      <td>Good morning my name is XXXX XXXX and I appreciate it if you could help me put a stop to Chase B...</td>\n",
       "      <td>Didn't receive enough information to verify debt</td>\n",
       "      <td>Consent provided</td>\n",
       "    </tr>\n",
       "    <tr>\n",
       "      <th>2</th>\n",
       "      <td>complaint-public-v2</td>\n",
       "      <td>complaint</td>\n",
       "      <td>3199379</td>\n",
       "      <td>0.0</td>\n",
       "      <td>None</td>\n",
       "      <td>77069</td>\n",
       "      <td>3199379</td>\n",
       "      <td>Other features, terms, or problems</td>\n",
       "      <td>2019-04-02T12:00:00-05:00</td>\n",
       "      <td>TX</td>\n",
       "      <td>...</td>\n",
       "      <td>Closed with explanation</td>\n",
       "      <td>JPMORGAN CHASE &amp; CO.</td>\n",
       "      <td>Web</td>\n",
       "      <td>2019-04-02T12:00:00-05:00</td>\n",
       "      <td>None</td>\n",
       "      <td>General-purpose credit card or charge card</td>\n",
       "      <td>Yes</td>\n",
       "      <td>I upgraded my XXXX XXXX card in XX/XX/2018 and was told by the agent who did the upgrade my anni...</td>\n",
       "      <td>Problem with rewards from credit card</td>\n",
       "      <td>Consent provided</td>\n",
       "    </tr>\n",
       "    <tr>\n",
       "      <th>3</th>\n",
       "      <td>complaint-public-v2</td>\n",
       "      <td>complaint</td>\n",
       "      <td>2673060</td>\n",
       "      <td>0.0</td>\n",
       "      <td>None</td>\n",
       "      <td>48066</td>\n",
       "      <td>2673060</td>\n",
       "      <td>Trouble during payment process</td>\n",
       "      <td>2017-09-13T12:00:00-05:00</td>\n",
       "      <td>MI</td>\n",
       "      <td>...</td>\n",
       "      <td>Closed with explanation</td>\n",
       "      <td>JPMORGAN CHASE &amp; CO.</td>\n",
       "      <td>Web</td>\n",
       "      <td>2017-09-14T12:00:00-05:00</td>\n",
       "      <td>None</td>\n",
       "      <td>Conventional home mortgage</td>\n",
       "      <td>Yes</td>\n",
       "      <td></td>\n",
       "      <td>None</td>\n",
       "      <td>Consent not provided</td>\n",
       "    </tr>\n",
       "    <tr>\n",
       "      <th>4</th>\n",
       "      <td>complaint-public-v2</td>\n",
       "      <td>complaint</td>\n",
       "      <td>3203545</td>\n",
       "      <td>0.0</td>\n",
       "      <td>None</td>\n",
       "      <td>10473</td>\n",
       "      <td>3203545</td>\n",
       "      <td>Fees or interest</td>\n",
       "      <td>2019-04-05T12:00:00-05:00</td>\n",
       "      <td>NY</td>\n",
       "      <td>...</td>\n",
       "      <td>Closed with explanation</td>\n",
       "      <td>JPMORGAN CHASE &amp; CO.</td>\n",
       "      <td>Referral</td>\n",
       "      <td>2019-04-05T12:00:00-05:00</td>\n",
       "      <td>None</td>\n",
       "      <td>General-purpose credit card or charge card</td>\n",
       "      <td>Yes</td>\n",
       "      <td></td>\n",
       "      <td>Charged too much interest</td>\n",
       "      <td>N/A</td>\n",
       "    </tr>\n",
       "  </tbody>\n",
       "</table>\n",
       "<p>5 rows × 22 columns</p>\n",
       "</div>"
      ],
      "text/plain": [
       "                _index      _type      _id  _score   _source.tags  \\\n",
       "0  complaint-public-v2  complaint  3211475     0.0           None   \n",
       "1  complaint-public-v2  complaint  3229299     0.0  Servicemember   \n",
       "2  complaint-public-v2  complaint  3199379     0.0           None   \n",
       "3  complaint-public-v2  complaint  2673060     0.0           None   \n",
       "4  complaint-public-v2  complaint  3203545     0.0           None   \n",
       "\n",
       "  _source.zip_code _source.complaint_id                       _source.issue  \\\n",
       "0            90301              3211475   Attempts to collect debt not owed   \n",
       "1            319XX              3229299     Written notification about debt   \n",
       "2            77069              3199379  Other features, terms, or problems   \n",
       "3            48066              2673060      Trouble during payment process   \n",
       "4            10473              3203545                    Fees or interest   \n",
       "\n",
       "       _source.date_received _source.state  ... _source.company_response  \\\n",
       "0  2019-04-13T12:00:00-05:00            CA  ...  Closed with explanation   \n",
       "1  2019-05-01T12:00:00-05:00            GA  ...  Closed with explanation   \n",
       "2  2019-04-02T12:00:00-05:00            TX  ...  Closed with explanation   \n",
       "3  2017-09-13T12:00:00-05:00            MI  ...  Closed with explanation   \n",
       "4  2019-04-05T12:00:00-05:00            NY  ...  Closed with explanation   \n",
       "\n",
       "        _source.company _source.submitted_via _source.date_sent_to_company  \\\n",
       "0  JPMORGAN CHASE & CO.                   Web    2019-04-13T12:00:00-05:00   \n",
       "1  JPMORGAN CHASE & CO.                   Web    2019-05-01T12:00:00-05:00   \n",
       "2  JPMORGAN CHASE & CO.                   Web    2019-04-02T12:00:00-05:00   \n",
       "3  JPMORGAN CHASE & CO.                   Web    2017-09-14T12:00:00-05:00   \n",
       "4  JPMORGAN CHASE & CO.              Referral    2019-04-05T12:00:00-05:00   \n",
       "\n",
       "  _source.company_public_response                         _source.sub_product  \\\n",
       "0                            None                            Credit card debt   \n",
       "1                            None                            Credit card debt   \n",
       "2                            None  General-purpose credit card or charge card   \n",
       "3                            None                  Conventional home mortgage   \n",
       "4                            None  General-purpose credit card or charge card   \n",
       "\n",
       "  _source.timely  \\\n",
       "0            Yes   \n",
       "1            Yes   \n",
       "2            Yes   \n",
       "3            Yes   \n",
       "4            Yes   \n",
       "\n",
       "                                                                       _source.complaint_what_happened  \\\n",
       "0                                                                                                        \n",
       "1  Good morning my name is XXXX XXXX and I appreciate it if you could help me put a stop to Chase B...   \n",
       "2  I upgraded my XXXX XXXX card in XX/XX/2018 and was told by the agent who did the upgrade my anni...   \n",
       "3                                                                                                        \n",
       "4                                                                                                        \n",
       "\n",
       "                                  _source.sub_issue  \\\n",
       "0                                 Debt is not yours   \n",
       "1  Didn't receive enough information to verify debt   \n",
       "2             Problem with rewards from credit card   \n",
       "3                                              None   \n",
       "4                         Charged too much interest   \n",
       "\n",
       "  _source.consumer_consent_provided  \n",
       "0              Consent not provided  \n",
       "1                  Consent provided  \n",
       "2                  Consent provided  \n",
       "3              Consent not provided  \n",
       "4                               N/A  \n",
       "\n",
       "[5 rows x 22 columns]"
      ]
     },
     "execution_count": 9,
     "metadata": {},
     "output_type": "execute_result"
    }
   ],
   "source": [
    "# Inspect the dataframe to understand the given data.\n",
    "df.head(5)\n"
   ]
  },
  {
   "cell_type": "code",
   "execution_count": 11,
   "metadata": {},
   "outputs": [
    {
     "data": {
      "text/plain": [
       "(78313, 22)"
      ]
     },
     "execution_count": 11,
     "metadata": {},
     "output_type": "execute_result"
    }
   ],
   "source": [
    "df.shape"
   ]
  },
  {
   "cell_type": "code",
   "execution_count": 13,
   "metadata": {},
   "outputs": [
    {
     "name": "stdout",
     "output_type": "stream",
     "text": [
      "<class 'pandas.core.frame.DataFrame'>\n",
      "RangeIndex: 78313 entries, 0 to 78312\n",
      "Data columns (total 22 columns):\n",
      " #   Column                             Non-Null Count  Dtype  \n",
      "---  ------                             --------------  -----  \n",
      " 0   _index                             78313 non-null  object \n",
      " 1   _type                              78313 non-null  object \n",
      " 2   _id                                78313 non-null  object \n",
      " 3   _score                             78313 non-null  float64\n",
      " 4   _source.tags                       10900 non-null  object \n",
      " 5   _source.zip_code                   71556 non-null  object \n",
      " 6   _source.complaint_id               78313 non-null  object \n",
      " 7   _source.issue                      78313 non-null  object \n",
      " 8   _source.date_received              78313 non-null  object \n",
      " 9   _source.state                      76322 non-null  object \n",
      " 10  _source.consumer_disputed          78313 non-null  object \n",
      " 11  _source.product                    78313 non-null  object \n",
      " 12  _source.company_response           78313 non-null  object \n",
      " 13  _source.company                    78313 non-null  object \n",
      " 14  _source.submitted_via              78313 non-null  object \n",
      " 15  _source.date_sent_to_company       78313 non-null  object \n",
      " 16  _source.company_public_response    4 non-null      object \n",
      " 17  _source.sub_product                67742 non-null  object \n",
      " 18  _source.timely                     78313 non-null  object \n",
      " 19  _source.complaint_what_happened    78313 non-null  object \n",
      " 20  _source.sub_issue                  32016 non-null  object \n",
      " 21  _source.consumer_consent_provided  77305 non-null  object \n",
      "dtypes: float64(1), object(21)\n",
      "memory usage: 13.1+ MB\n"
     ]
    }
   ],
   "source": [
    "df.info()"
   ]
  },
  {
   "cell_type": "code",
   "execution_count": 15,
   "metadata": {
    "id": "Dwcty-wmJrFw"
   },
   "outputs": [
    {
     "data": {
      "text/plain": [
       "Index(['_index', '_type', '_id', '_score', '_source.tags', '_source.zip_code',\n",
       "       '_source.complaint_id', '_source.issue', '_source.date_received',\n",
       "       '_source.state', '_source.consumer_disputed', '_source.product',\n",
       "       '_source.company_response', '_source.company', '_source.submitted_via',\n",
       "       '_source.date_sent_to_company', '_source.company_public_response',\n",
       "       '_source.sub_product', '_source.timely',\n",
       "       '_source.complaint_what_happened', '_source.sub_issue',\n",
       "       '_source.consumer_consent_provided'],\n",
       "      dtype='object')"
      ]
     },
     "execution_count": 15,
     "metadata": {},
     "output_type": "execute_result"
    }
   ],
   "source": [
    "#print the column names\n",
    "df.columns"
   ]
  },
  {
   "cell_type": "code",
   "execution_count": 17,
   "metadata": {
    "id": "FYCtKXD1JrFw"
   },
   "outputs": [],
   "source": [
    "#Assign new column names\n",
    "df.rename(columns={'_index':'index',\n",
    "  '_type':'type',\n",
    "  '_id':'id',\n",
    "  '_score':'score',\n",
    "  '_source.tags':'tags',\n",
    "  '_source.zip_code':'zip_code',\n",
    " '_source.complaint_id':'complaint_id',\n",
    " '_source.issue':'issue',\n",
    " '_source.date_received':'date_received',\n",
    " '_source.state':'state',\n",
    " '_source.consumer_disputed':'consumer_disputed',\n",
    " '_source.product':'product',\n",
    " '_source.company_response':'company_response',\n",
    " '_source.company':'company',\n",
    " '_source.submitted_via':'submitted_via',\n",
    " '_source.date_sent_to_company':'date_sent_to_company',\n",
    " '_source.company_public_response':'company_public_response',\n",
    " '_source.sub_product':'sub_product',\n",
    " '_source.timely':'timely',\n",
    " '_source.complaint_what_happened':'complaint_what_happened',\n",
    " '_source.sub_issue':'sub_issue',\n",
    " '_source.consumer_consent_provided':'consumer_consent_provided'},inplace=True)"
   ]
  },
  {
   "cell_type": "code",
   "execution_count": 19,
   "metadata": {},
   "outputs": [
    {
     "data": {
      "text/plain": [
       "index                            0\n",
       "type                             0\n",
       "id                               0\n",
       "score                            0\n",
       "tags                         67413\n",
       "zip_code                      6757\n",
       "complaint_id                     0\n",
       "issue                            0\n",
       "date_received                    0\n",
       "state                         1991\n",
       "consumer_disputed                0\n",
       "product                          0\n",
       "company_response                 0\n",
       "company                          0\n",
       "submitted_via                    0\n",
       "date_sent_to_company             0\n",
       "company_public_response      78309\n",
       "sub_product                  10571\n",
       "timely                           0\n",
       "complaint_what_happened          0\n",
       "sub_issue                    46297\n",
       "consumer_consent_provided     1008\n",
       "dtype: int64"
      ]
     },
     "execution_count": 19,
     "metadata": {},
     "output_type": "execute_result"
    }
   ],
   "source": [
    "#Checking nulls values in each columns\n",
    "df.isnull().sum()"
   ]
  },
  {
   "cell_type": "code",
   "execution_count": 25,
   "metadata": {},
   "outputs": [
    {
     "data": {
      "text/plain": [
       "(57241, 22)"
      ]
     },
     "execution_count": 25,
     "metadata": {},
     "output_type": "execute_result"
    }
   ],
   "source": [
    "# Checking rows where complaint_what_happened is blank\n",
    "df[df['complaint_what_happened']==''].shape"
   ]
  },
  {
   "cell_type": "code",
   "execution_count": 27,
   "metadata": {
    "id": "grQUPFL5JrFx"
   },
   "outputs": [],
   "source": [
    "#Assign nan in place of blanks in the complaints column\n",
    "df['complaint_what_happened'].replace(r'^\\s*$', np.nan, regex=True, inplace=True)"
   ]
  },
  {
   "cell_type": "code",
   "execution_count": 29,
   "metadata": {},
   "outputs": [
    {
     "data": {
      "text/html": [
       "<div>\n",
       "<style scoped>\n",
       "    .dataframe tbody tr th:only-of-type {\n",
       "        vertical-align: middle;\n",
       "    }\n",
       "\n",
       "    .dataframe tbody tr th {\n",
       "        vertical-align: top;\n",
       "    }\n",
       "\n",
       "    .dataframe thead th {\n",
       "        text-align: right;\n",
       "    }\n",
       "</style>\n",
       "<table border=\"1\" class=\"dataframe\">\n",
       "  <thead>\n",
       "    <tr style=\"text-align: right;\">\n",
       "      <th></th>\n",
       "      <th>index</th>\n",
       "      <th>type</th>\n",
       "      <th>id</th>\n",
       "      <th>score</th>\n",
       "      <th>tags</th>\n",
       "      <th>zip_code</th>\n",
       "      <th>complaint_id</th>\n",
       "      <th>issue</th>\n",
       "      <th>date_received</th>\n",
       "      <th>state</th>\n",
       "      <th>...</th>\n",
       "      <th>company_response</th>\n",
       "      <th>company</th>\n",
       "      <th>submitted_via</th>\n",
       "      <th>date_sent_to_company</th>\n",
       "      <th>company_public_response</th>\n",
       "      <th>sub_product</th>\n",
       "      <th>timely</th>\n",
       "      <th>complaint_what_happened</th>\n",
       "      <th>sub_issue</th>\n",
       "      <th>consumer_consent_provided</th>\n",
       "    </tr>\n",
       "  </thead>\n",
       "  <tbody>\n",
       "    <tr>\n",
       "      <th>0</th>\n",
       "      <td>complaint-public-v2</td>\n",
       "      <td>complaint</td>\n",
       "      <td>3211475</td>\n",
       "      <td>0.0</td>\n",
       "      <td>None</td>\n",
       "      <td>90301</td>\n",
       "      <td>3211475</td>\n",
       "      <td>Attempts to collect debt not owed</td>\n",
       "      <td>2019-04-13T12:00:00-05:00</td>\n",
       "      <td>CA</td>\n",
       "      <td>...</td>\n",
       "      <td>Closed with explanation</td>\n",
       "      <td>JPMORGAN CHASE &amp; CO.</td>\n",
       "      <td>Web</td>\n",
       "      <td>2019-04-13T12:00:00-05:00</td>\n",
       "      <td>None</td>\n",
       "      <td>Credit card debt</td>\n",
       "      <td>Yes</td>\n",
       "      <td>NaN</td>\n",
       "      <td>Debt is not yours</td>\n",
       "      <td>Consent not provided</td>\n",
       "    </tr>\n",
       "    <tr>\n",
       "      <th>3</th>\n",
       "      <td>complaint-public-v2</td>\n",
       "      <td>complaint</td>\n",
       "      <td>2673060</td>\n",
       "      <td>0.0</td>\n",
       "      <td>None</td>\n",
       "      <td>48066</td>\n",
       "      <td>2673060</td>\n",
       "      <td>Trouble during payment process</td>\n",
       "      <td>2017-09-13T12:00:00-05:00</td>\n",
       "      <td>MI</td>\n",
       "      <td>...</td>\n",
       "      <td>Closed with explanation</td>\n",
       "      <td>JPMORGAN CHASE &amp; CO.</td>\n",
       "      <td>Web</td>\n",
       "      <td>2017-09-14T12:00:00-05:00</td>\n",
       "      <td>None</td>\n",
       "      <td>Conventional home mortgage</td>\n",
       "      <td>Yes</td>\n",
       "      <td>NaN</td>\n",
       "      <td>None</td>\n",
       "      <td>Consent not provided</td>\n",
       "    </tr>\n",
       "    <tr>\n",
       "      <th>4</th>\n",
       "      <td>complaint-public-v2</td>\n",
       "      <td>complaint</td>\n",
       "      <td>3203545</td>\n",
       "      <td>0.0</td>\n",
       "      <td>None</td>\n",
       "      <td>10473</td>\n",
       "      <td>3203545</td>\n",
       "      <td>Fees or interest</td>\n",
       "      <td>2019-04-05T12:00:00-05:00</td>\n",
       "      <td>NY</td>\n",
       "      <td>...</td>\n",
       "      <td>Closed with explanation</td>\n",
       "      <td>JPMORGAN CHASE &amp; CO.</td>\n",
       "      <td>Referral</td>\n",
       "      <td>2019-04-05T12:00:00-05:00</td>\n",
       "      <td>None</td>\n",
       "      <td>General-purpose credit card or charge card</td>\n",
       "      <td>Yes</td>\n",
       "      <td>NaN</td>\n",
       "      <td>Charged too much interest</td>\n",
       "      <td>N/A</td>\n",
       "    </tr>\n",
       "    <tr>\n",
       "      <th>5</th>\n",
       "      <td>complaint-public-v2</td>\n",
       "      <td>complaint</td>\n",
       "      <td>3275312</td>\n",
       "      <td>0.0</td>\n",
       "      <td>Older American</td>\n",
       "      <td>48227</td>\n",
       "      <td>3275312</td>\n",
       "      <td>Managing an account</td>\n",
       "      <td>2019-06-13T12:00:00-05:00</td>\n",
       "      <td>MI</td>\n",
       "      <td>...</td>\n",
       "      <td>Closed with monetary relief</td>\n",
       "      <td>JPMORGAN CHASE &amp; CO.</td>\n",
       "      <td>Referral</td>\n",
       "      <td>2019-06-14T12:00:00-05:00</td>\n",
       "      <td>None</td>\n",
       "      <td>Checking account</td>\n",
       "      <td>Yes</td>\n",
       "      <td>NaN</td>\n",
       "      <td>Problem using a debit or ATM card</td>\n",
       "      <td>N/A</td>\n",
       "    </tr>\n",
       "    <tr>\n",
       "      <th>6</th>\n",
       "      <td>complaint-public-v2</td>\n",
       "      <td>complaint</td>\n",
       "      <td>3238804</td>\n",
       "      <td>0.0</td>\n",
       "      <td>None</td>\n",
       "      <td>76262</td>\n",
       "      <td>3238804</td>\n",
       "      <td>Managing an account</td>\n",
       "      <td>2019-05-10T12:00:00-05:00</td>\n",
       "      <td>TX</td>\n",
       "      <td>...</td>\n",
       "      <td>Closed with monetary relief</td>\n",
       "      <td>JPMORGAN CHASE &amp; CO.</td>\n",
       "      <td>Phone</td>\n",
       "      <td>2019-05-10T12:00:00-05:00</td>\n",
       "      <td>None</td>\n",
       "      <td>Checking account</td>\n",
       "      <td>Yes</td>\n",
       "      <td>NaN</td>\n",
       "      <td>Problem using a debit or ATM card</td>\n",
       "      <td>N/A</td>\n",
       "    </tr>\n",
       "    <tr>\n",
       "      <th>...</th>\n",
       "      <td>...</td>\n",
       "      <td>...</td>\n",
       "      <td>...</td>\n",
       "      <td>...</td>\n",
       "      <td>...</td>\n",
       "      <td>...</td>\n",
       "      <td>...</td>\n",
       "      <td>...</td>\n",
       "      <td>...</td>\n",
       "      <td>...</td>\n",
       "      <td>...</td>\n",
       "      <td>...</td>\n",
       "      <td>...</td>\n",
       "      <td>...</td>\n",
       "      <td>...</td>\n",
       "      <td>...</td>\n",
       "      <td>...</td>\n",
       "      <td>...</td>\n",
       "      <td>...</td>\n",
       "      <td>...</td>\n",
       "      <td>...</td>\n",
       "    </tr>\n",
       "    <tr>\n",
       "      <th>78304</th>\n",
       "      <td>complaint-public-v2</td>\n",
       "      <td>complaint</td>\n",
       "      <td>3080086</td>\n",
       "      <td>0.0</td>\n",
       "      <td>None</td>\n",
       "      <td>76107</td>\n",
       "      <td>3080086</td>\n",
       "      <td>Applying for a mortgage or refinancing an existing mortgage</td>\n",
       "      <td>2018-11-22T12:00:00-05:00</td>\n",
       "      <td>TX</td>\n",
       "      <td>...</td>\n",
       "      <td>Closed with monetary relief</td>\n",
       "      <td>JPMORGAN CHASE &amp; CO.</td>\n",
       "      <td>Web</td>\n",
       "      <td>2018-11-22T12:00:00-05:00</td>\n",
       "      <td>None</td>\n",
       "      <td>Conventional home mortgage</td>\n",
       "      <td>Yes</td>\n",
       "      <td>NaN</td>\n",
       "      <td>None</td>\n",
       "      <td>Other</td>\n",
       "    </tr>\n",
       "    <tr>\n",
       "      <th>78305</th>\n",
       "      <td>complaint-public-v2</td>\n",
       "      <td>complaint</td>\n",
       "      <td>3103013</td>\n",
       "      <td>0.0</td>\n",
       "      <td>Older American</td>\n",
       "      <td>863XX</td>\n",
       "      <td>3103013</td>\n",
       "      <td>Closing an account</td>\n",
       "      <td>2018-12-17T12:00:00-05:00</td>\n",
       "      <td>AZ</td>\n",
       "      <td>...</td>\n",
       "      <td>Closed with explanation</td>\n",
       "      <td>JPMORGAN CHASE &amp; CO.</td>\n",
       "      <td>Web</td>\n",
       "      <td>2018-12-18T12:00:00-05:00</td>\n",
       "      <td>None</td>\n",
       "      <td>Other banking product or service</td>\n",
       "      <td>Yes</td>\n",
       "      <td>NaN</td>\n",
       "      <td>Funds not received from closed account</td>\n",
       "      <td>Consent not provided</td>\n",
       "    </tr>\n",
       "    <tr>\n",
       "      <th>78306</th>\n",
       "      <td>complaint-public-v2</td>\n",
       "      <td>complaint</td>\n",
       "      <td>3099437</td>\n",
       "      <td>0.0</td>\n",
       "      <td>None</td>\n",
       "      <td>11217</td>\n",
       "      <td>3099437</td>\n",
       "      <td>Managing an account</td>\n",
       "      <td>2018-12-12T12:00:00-05:00</td>\n",
       "      <td>NY</td>\n",
       "      <td>...</td>\n",
       "      <td>Closed with explanation</td>\n",
       "      <td>JPMORGAN CHASE &amp; CO.</td>\n",
       "      <td>Referral</td>\n",
       "      <td>2018-12-18T12:00:00-05:00</td>\n",
       "      <td>None</td>\n",
       "      <td>Checking account</td>\n",
       "      <td>Yes</td>\n",
       "      <td>NaN</td>\n",
       "      <td>Deposits and withdrawals</td>\n",
       "      <td>N/A</td>\n",
       "    </tr>\n",
       "    <tr>\n",
       "      <th>78307</th>\n",
       "      <td>complaint-public-v2</td>\n",
       "      <td>complaint</td>\n",
       "      <td>3156336</td>\n",
       "      <td>0.0</td>\n",
       "      <td>None</td>\n",
       "      <td>074XX</td>\n",
       "      <td>3156336</td>\n",
       "      <td>Applying for a mortgage or refinancing an existing mortgage</td>\n",
       "      <td>2019-02-19T12:00:00-05:00</td>\n",
       "      <td>NJ</td>\n",
       "      <td>...</td>\n",
       "      <td>Closed with explanation</td>\n",
       "      <td>JPMORGAN CHASE &amp; CO.</td>\n",
       "      <td>Web</td>\n",
       "      <td>2019-02-19T12:00:00-05:00</td>\n",
       "      <td>None</td>\n",
       "      <td>Conventional home mortgage</td>\n",
       "      <td>Yes</td>\n",
       "      <td>NaN</td>\n",
       "      <td>None</td>\n",
       "      <td>Other</td>\n",
       "    </tr>\n",
       "    <tr>\n",
       "      <th>78308</th>\n",
       "      <td>complaint-public-v2</td>\n",
       "      <td>complaint</td>\n",
       "      <td>3105617</td>\n",
       "      <td>0.0</td>\n",
       "      <td>None</td>\n",
       "      <td>08857</td>\n",
       "      <td>3105617</td>\n",
       "      <td>Closing an account</td>\n",
       "      <td>2018-12-20T12:00:00-05:00</td>\n",
       "      <td>NJ</td>\n",
       "      <td>...</td>\n",
       "      <td>Closed with explanation</td>\n",
       "      <td>JPMORGAN CHASE &amp; CO.</td>\n",
       "      <td>Web</td>\n",
       "      <td>2018-12-21T12:00:00-05:00</td>\n",
       "      <td>None</td>\n",
       "      <td>Checking account</td>\n",
       "      <td>Yes</td>\n",
       "      <td>NaN</td>\n",
       "      <td>Funds not received from closed account</td>\n",
       "      <td>Consent not provided</td>\n",
       "    </tr>\n",
       "  </tbody>\n",
       "</table>\n",
       "<p>57241 rows × 22 columns</p>\n",
       "</div>"
      ],
      "text/plain": [
       "                     index       type       id  score            tags  \\\n",
       "0      complaint-public-v2  complaint  3211475    0.0            None   \n",
       "3      complaint-public-v2  complaint  2673060    0.0            None   \n",
       "4      complaint-public-v2  complaint  3203545    0.0            None   \n",
       "5      complaint-public-v2  complaint  3275312    0.0  Older American   \n",
       "6      complaint-public-v2  complaint  3238804    0.0            None   \n",
       "...                    ...        ...      ...    ...             ...   \n",
       "78304  complaint-public-v2  complaint  3080086    0.0            None   \n",
       "78305  complaint-public-v2  complaint  3103013    0.0  Older American   \n",
       "78306  complaint-public-v2  complaint  3099437    0.0            None   \n",
       "78307  complaint-public-v2  complaint  3156336    0.0            None   \n",
       "78308  complaint-public-v2  complaint  3105617    0.0            None   \n",
       "\n",
       "      zip_code complaint_id  \\\n",
       "0        90301      3211475   \n",
       "3        48066      2673060   \n",
       "4        10473      3203545   \n",
       "5        48227      3275312   \n",
       "6        76262      3238804   \n",
       "...        ...          ...   \n",
       "78304    76107      3080086   \n",
       "78305    863XX      3103013   \n",
       "78306    11217      3099437   \n",
       "78307    074XX      3156336   \n",
       "78308    08857      3105617   \n",
       "\n",
       "                                                             issue  \\\n",
       "0                                Attempts to collect debt not owed   \n",
       "3                                   Trouble during payment process   \n",
       "4                                                 Fees or interest   \n",
       "5                                              Managing an account   \n",
       "6                                              Managing an account   \n",
       "...                                                            ...   \n",
       "78304  Applying for a mortgage or refinancing an existing mortgage   \n",
       "78305                                           Closing an account   \n",
       "78306                                          Managing an account   \n",
       "78307  Applying for a mortgage or refinancing an existing mortgage   \n",
       "78308                                           Closing an account   \n",
       "\n",
       "                   date_received state  ...             company_response  \\\n",
       "0      2019-04-13T12:00:00-05:00    CA  ...      Closed with explanation   \n",
       "3      2017-09-13T12:00:00-05:00    MI  ...      Closed with explanation   \n",
       "4      2019-04-05T12:00:00-05:00    NY  ...      Closed with explanation   \n",
       "5      2019-06-13T12:00:00-05:00    MI  ...  Closed with monetary relief   \n",
       "6      2019-05-10T12:00:00-05:00    TX  ...  Closed with monetary relief   \n",
       "...                          ...   ...  ...                          ...   \n",
       "78304  2018-11-22T12:00:00-05:00    TX  ...  Closed with monetary relief   \n",
       "78305  2018-12-17T12:00:00-05:00    AZ  ...      Closed with explanation   \n",
       "78306  2018-12-12T12:00:00-05:00    NY  ...      Closed with explanation   \n",
       "78307  2019-02-19T12:00:00-05:00    NJ  ...      Closed with explanation   \n",
       "78308  2018-12-20T12:00:00-05:00    NJ  ...      Closed with explanation   \n",
       "\n",
       "                    company submitted_via       date_sent_to_company  \\\n",
       "0      JPMORGAN CHASE & CO.           Web  2019-04-13T12:00:00-05:00   \n",
       "3      JPMORGAN CHASE & CO.           Web  2017-09-14T12:00:00-05:00   \n",
       "4      JPMORGAN CHASE & CO.      Referral  2019-04-05T12:00:00-05:00   \n",
       "5      JPMORGAN CHASE & CO.      Referral  2019-06-14T12:00:00-05:00   \n",
       "6      JPMORGAN CHASE & CO.         Phone  2019-05-10T12:00:00-05:00   \n",
       "...                     ...           ...                        ...   \n",
       "78304  JPMORGAN CHASE & CO.           Web  2018-11-22T12:00:00-05:00   \n",
       "78305  JPMORGAN CHASE & CO.           Web  2018-12-18T12:00:00-05:00   \n",
       "78306  JPMORGAN CHASE & CO.      Referral  2018-12-18T12:00:00-05:00   \n",
       "78307  JPMORGAN CHASE & CO.           Web  2019-02-19T12:00:00-05:00   \n",
       "78308  JPMORGAN CHASE & CO.           Web  2018-12-21T12:00:00-05:00   \n",
       "\n",
       "      company_public_response                                 sub_product  \\\n",
       "0                        None                            Credit card debt   \n",
       "3                        None                  Conventional home mortgage   \n",
       "4                        None  General-purpose credit card or charge card   \n",
       "5                        None                            Checking account   \n",
       "6                        None                            Checking account   \n",
       "...                       ...                                         ...   \n",
       "78304                    None                  Conventional home mortgage   \n",
       "78305                    None            Other banking product or service   \n",
       "78306                    None                            Checking account   \n",
       "78307                    None                  Conventional home mortgage   \n",
       "78308                    None                            Checking account   \n",
       "\n",
       "      timely complaint_what_happened                               sub_issue  \\\n",
       "0        Yes                     NaN                       Debt is not yours   \n",
       "3        Yes                     NaN                                    None   \n",
       "4        Yes                     NaN               Charged too much interest   \n",
       "5        Yes                     NaN       Problem using a debit or ATM card   \n",
       "6        Yes                     NaN       Problem using a debit or ATM card   \n",
       "...      ...                     ...                                     ...   \n",
       "78304    Yes                     NaN                                    None   \n",
       "78305    Yes                     NaN  Funds not received from closed account   \n",
       "78306    Yes                     NaN                Deposits and withdrawals   \n",
       "78307    Yes                     NaN                                    None   \n",
       "78308    Yes                     NaN  Funds not received from closed account   \n",
       "\n",
       "      consumer_consent_provided  \n",
       "0          Consent not provided  \n",
       "3          Consent not provided  \n",
       "4                           N/A  \n",
       "5                           N/A  \n",
       "6                           N/A  \n",
       "...                         ...  \n",
       "78304                     Other  \n",
       "78305      Consent not provided  \n",
       "78306                       N/A  \n",
       "78307                     Other  \n",
       "78308      Consent not provided  \n",
       "\n",
       "[57241 rows x 22 columns]"
      ]
     },
     "execution_count": 29,
     "metadata": {},
     "output_type": "execute_result"
    }
   ],
   "source": [
    "df[df['complaint_what_happened'].isna()]"
   ]
  },
  {
   "cell_type": "code",
   "execution_count": 31,
   "metadata": {},
   "outputs": [
    {
     "data": {
      "text/plain": [
       "index                            0\n",
       "type                             0\n",
       "id                               0\n",
       "score                            0\n",
       "tags                         67413\n",
       "zip_code                      6757\n",
       "complaint_id                     0\n",
       "issue                            0\n",
       "date_received                    0\n",
       "state                         1991\n",
       "consumer_disputed                0\n",
       "product                          0\n",
       "company_response                 0\n",
       "company                          0\n",
       "submitted_via                    0\n",
       "date_sent_to_company             0\n",
       "company_public_response      78309\n",
       "sub_product                  10571\n",
       "timely                           0\n",
       "complaint_what_happened      57241\n",
       "sub_issue                    46297\n",
       "consumer_consent_provided     1008\n",
       "dtype: int64"
      ]
     },
     "execution_count": 31,
     "metadata": {},
     "output_type": "execute_result"
    }
   ],
   "source": [
    "df.isnull().sum()"
   ]
  },
  {
   "cell_type": "code",
   "execution_count": 33,
   "metadata": {
    "id": "Jfxd8VSmJrFy"
   },
   "outputs": [],
   "source": [
    "#Remove all rows where complaints column is nan\n",
    "df.dropna(subset=['complaint_what_happened'],inplace=True)"
   ]
  },
  {
   "cell_type": "code",
   "execution_count": 35,
   "metadata": {},
   "outputs": [
    {
     "data": {
      "text/plain": [
       "index                            0\n",
       "type                             0\n",
       "id                               0\n",
       "score                            0\n",
       "tags                         17256\n",
       "zip_code                      4645\n",
       "complaint_id                     0\n",
       "issue                            0\n",
       "date_received                    0\n",
       "state                          143\n",
       "consumer_disputed                0\n",
       "product                          0\n",
       "company_response                 0\n",
       "company                          0\n",
       "submitted_via                    0\n",
       "date_sent_to_company             0\n",
       "company_public_response      21070\n",
       "sub_product                   2109\n",
       "timely                           0\n",
       "complaint_what_happened          0\n",
       "sub_issue                     8176\n",
       "consumer_consent_provided        0\n",
       "dtype: int64"
      ]
     },
     "execution_count": 35,
     "metadata": {},
     "output_type": "execute_result"
    }
   ],
   "source": [
    "df.isnull().sum()"
   ]
  },
  {
   "cell_type": "markdown",
   "metadata": {
    "id": "L944HZpsJrFy"
   },
   "source": [
    "## Prepare the text for topic modeling\n",
    "\n",
    "Once you have removed all the blank complaints, you need to:\n",
    "\n",
    "* Make the text lowercase\n",
    "* Remove text in square brackets\n",
    "* Remove punctuation\n",
    "* Remove words containing numbers\n",
    "\n",
    "\n",
    "Once you have done these cleaning operations you need to perform the following:\n",
    "* Lemmatize the texts\n",
    "* Extract the POS tags of the lemmatized text and remove all the words which have tags other than NN[tag == \"NN\"].\n"
   ]
  },
  {
   "cell_type": "code",
   "execution_count": 37,
   "metadata": {
    "id": "qm7SjjSkJrFz"
   },
   "outputs": [],
   "source": [
    "# Write your function here to clean the text and remove all the unnecessary elements.\n",
    "def clean_text(text):\n",
    "    #Making text Lower case \n",
    "    text = text.lower()\n",
    "\n",
    "    #Removing text in Square brackets []\n",
    "    text = re.sub(r'\\[[^\\]]+\\]',' ',text)\n",
    "    #Removing Puntuations\n",
    "    text = re.sub(r'[^\\w\\s/]',' ',text)\n",
    "\n",
    "    # words containg numbers \n",
    "    text = re.sub(r'\\b[a-zA-Z]*\\d+[a-zA-Z]+\\b|\\b[a-zA-Z]+\\d+\\w*\\b',' ',text)\n",
    "\n",
    "    return text"
   ]
  },
  {
   "cell_type": "code",
   "execution_count": 39,
   "metadata": {},
   "outputs": [],
   "source": [
    "df['complaint_what_happened_cleaned'] = df['complaint_what_happened'].apply(lambda x : clean_text(x))"
   ]
  },
  {
   "cell_type": "code",
   "execution_count": 47,
   "metadata": {
    "id": "zgOu8t8HJrFz"
   },
   "outputs": [],
   "source": [
    "#Write your function to Lemmatize the texts\n",
    "lemmatizer = WordNetLemmatizer()\n",
    "def lemmatize(text):\n",
    "    # Remove words inside square brackets\n",
    "    #text = re.sub(r'\\[\\w+\\]', '', text)\n",
    "    words = word_tokenize(text)\n",
    "    # Lemmatize each word\n",
    "    #lemmatized_text = ' '.join(lemmatizer.lemmatize(word) for word in text.split())\n",
    "    lemmatized_text = ' '.join(lemmatizer.lemmatize(word) for word in words)\n",
    "    return lemmatized_text"
   ]
  },
  {
   "cell_type": "code",
   "execution_count": 69,
   "metadata": {},
   "outputs": [],
   "source": [
    "#df['complaint_what_happened_lemma'] = df['complaint_what_happened_cleaned'].apply(lemmatize)\n",
    "df['complaint_what_happened_lemma'] = df['complaint_what_happened_cleaned'].apply(lambda x:lemmatize(x))"
   ]
  },
  {
   "cell_type": "code",
   "execution_count": 71,
   "metadata": {
    "id": "uXnN7aa_JrF0"
   },
   "outputs": [],
   "source": [
    "#Create a dataframe('df_clean') that will have only the complaints and the lemmatized complaints\n",
    "df_clean = df[['complaint_what_happened_cleaned','complaint_what_happened_lemma']]"
   ]
  },
  {
   "cell_type": "code",
   "execution_count": 73,
   "metadata": {},
   "outputs": [
    {
     "data": {
      "text/html": [
       "<div>\n",
       "<style scoped>\n",
       "    .dataframe tbody tr th:only-of-type {\n",
       "        vertical-align: middle;\n",
       "    }\n",
       "\n",
       "    .dataframe tbody tr th {\n",
       "        vertical-align: top;\n",
       "    }\n",
       "\n",
       "    .dataframe thead th {\n",
       "        text-align: right;\n",
       "    }\n",
       "</style>\n",
       "<table border=\"1\" class=\"dataframe\">\n",
       "  <thead>\n",
       "    <tr style=\"text-align: right;\">\n",
       "      <th></th>\n",
       "      <th>complaint_what_happened_cleaned</th>\n",
       "      <th>complaint_what_happened_lemma</th>\n",
       "    </tr>\n",
       "  </thead>\n",
       "  <tbody>\n",
       "    <tr>\n",
       "      <th>1</th>\n",
       "      <td>good morning my name is xxxx xxxx and i appreciate it if you could help me put a stop to chase b...</td>\n",
       "      <td>good morning my name is xxxx xxxx and i appreciate it if you could help me put a stop to chase b...</td>\n",
       "    </tr>\n",
       "    <tr>\n",
       "      <th>2</th>\n",
       "      <td>i upgraded my xxxx xxxx card in xx/xx/2018 and was told by the agent who did the upgrade my anni...</td>\n",
       "      <td>i upgraded my xxxx xxxx card in xx/xx/2018 and wa told by the agent who did the upgrade my anniv...</td>\n",
       "    </tr>\n",
       "    <tr>\n",
       "      <th>10</th>\n",
       "      <td>chase card was reported on xx/xx/2019  however  fraudulent application have been submitted my id...</td>\n",
       "      <td>chase card wa reported on xx/xx/2019 however fraudulent application have been submitted my ident...</td>\n",
       "    </tr>\n",
       "    <tr>\n",
       "      <th>11</th>\n",
       "      <td>on xx/xx/2018  while trying to book a xxxx  xxxx  ticket  i came across an offer for   300 00  t...</td>\n",
       "      <td>on xx/xx/2018 while trying to book a xxxx xxxx ticket i came across an offer for 300 00 to be ap...</td>\n",
       "    </tr>\n",
       "    <tr>\n",
       "      <th>14</th>\n",
       "      <td>my grand son give me check for   1600 00  i deposit it into my chase account after fund clear my...</td>\n",
       "      <td>my grand son give me check for 1600 00 i deposit it into my chase account after fund clear my ch...</td>\n",
       "    </tr>\n",
       "    <tr>\n",
       "      <th>...</th>\n",
       "      <td>...</td>\n",
       "      <td>...</td>\n",
       "    </tr>\n",
       "    <tr>\n",
       "      <th>78303</th>\n",
       "      <td>after being a chase card customer for well over a decade  was offered multiple solicitations for...</td>\n",
       "      <td>after being a chase card customer for well over a decade wa offered multiple solicitation for ac...</td>\n",
       "    </tr>\n",
       "    <tr>\n",
       "      <th>78309</th>\n",
       "      <td>on wednesday  xx/xx/xxxx i called chas  my xxxx xxxx visa credit card provider  and asked how to...</td>\n",
       "      <td>on wednesday xx/xx/xxxx i called chas my xxxx xxxx visa credit card provider and asked how to ma...</td>\n",
       "    </tr>\n",
       "    <tr>\n",
       "      <th>78310</th>\n",
       "      <td>i am not familiar with xxxx pay and did not understand the great risk this provides to consumers...</td>\n",
       "      <td>i am not familiar with xxxx pay and did not understand the great risk this provides to consumer ...</td>\n",
       "    </tr>\n",
       "    <tr>\n",
       "      <th>78311</th>\n",
       "      <td>i have had flawless credit for 30 yrs  i ve had chase credit cards    chase freedom    specifica...</td>\n",
       "      <td>i have had flawless credit for 30 yr i ve had chase credit card chase freedom specifically since...</td>\n",
       "    </tr>\n",
       "    <tr>\n",
       "      <th>78312</th>\n",
       "      <td>roughly 10  years ago i closed out my accounts with jp morgan chase bank xxxx in order to close ...</td>\n",
       "      <td>roughly 10 year ago i closed out my account with jp morgan chase bank xxxx in order to close out...</td>\n",
       "    </tr>\n",
       "  </tbody>\n",
       "</table>\n",
       "<p>21072 rows × 2 columns</p>\n",
       "</div>"
      ],
      "text/plain": [
       "                                                                           complaint_what_happened_cleaned  \\\n",
       "1      good morning my name is xxxx xxxx and i appreciate it if you could help me put a stop to chase b...   \n",
       "2      i upgraded my xxxx xxxx card in xx/xx/2018 and was told by the agent who did the upgrade my anni...   \n",
       "10     chase card was reported on xx/xx/2019  however  fraudulent application have been submitted my id...   \n",
       "11     on xx/xx/2018  while trying to book a xxxx  xxxx  ticket  i came across an offer for   300 00  t...   \n",
       "14     my grand son give me check for   1600 00  i deposit it into my chase account after fund clear my...   \n",
       "...                                                                                                    ...   \n",
       "78303  after being a chase card customer for well over a decade  was offered multiple solicitations for...   \n",
       "78309  on wednesday  xx/xx/xxxx i called chas  my xxxx xxxx visa credit card provider  and asked how to...   \n",
       "78310  i am not familiar with xxxx pay and did not understand the great risk this provides to consumers...   \n",
       "78311  i have had flawless credit for 30 yrs  i ve had chase credit cards    chase freedom    specifica...   \n",
       "78312  roughly 10  years ago i closed out my accounts with jp morgan chase bank xxxx in order to close ...   \n",
       "\n",
       "                                                                             complaint_what_happened_lemma  \n",
       "1      good morning my name is xxxx xxxx and i appreciate it if you could help me put a stop to chase b...  \n",
       "2      i upgraded my xxxx xxxx card in xx/xx/2018 and wa told by the agent who did the upgrade my anniv...  \n",
       "10     chase card wa reported on xx/xx/2019 however fraudulent application have been submitted my ident...  \n",
       "11     on xx/xx/2018 while trying to book a xxxx xxxx ticket i came across an offer for 300 00 to be ap...  \n",
       "14     my grand son give me check for 1600 00 i deposit it into my chase account after fund clear my ch...  \n",
       "...                                                                                                    ...  \n",
       "78303  after being a chase card customer for well over a decade wa offered multiple solicitation for ac...  \n",
       "78309  on wednesday xx/xx/xxxx i called chas my xxxx xxxx visa credit card provider and asked how to ma...  \n",
       "78310  i am not familiar with xxxx pay and did not understand the great risk this provides to consumer ...  \n",
       "78311  i have had flawless credit for 30 yr i ve had chase credit card chase freedom specifically since...  \n",
       "78312  roughly 10 year ago i closed out my account with jp morgan chase bank xxxx in order to close out...  \n",
       "\n",
       "[21072 rows x 2 columns]"
      ]
     },
     "execution_count": 73,
     "metadata": {},
     "output_type": "execute_result"
    }
   ],
   "source": [
    "df_clean"
   ]
  },
  {
   "cell_type": "code",
   "execution_count": 111,
   "metadata": {
    "id": "Kk7fc4DuJrF1"
   },
   "outputs": [],
   "source": [
    "#Write your function to extract the POS tags\n",
    "def extract_nouns_column(text):\n",
    "    words = word_tokenize(text)  # Tokenize text\n",
    "    tagged_words = pos_tag(words)  # Get POS tags\n",
    "    lemmatized_nouns = [lemmatizer.lemmatize(word) for word, tag in tagged_words if tag == 'NN']  # Keep only nouns\n",
    "    return ' '.join(lemmatized_nouns)  # Return as a single string"
   ]
  },
  {
   "cell_type": "code",
   "execution_count": 125,
   "metadata": {},
   "outputs": [
    {
     "data": {
      "text/plain": [
       "'morning name stop bank cardmember service debt verification statement i bank debt mail month debt i right information consumer chase account advance help'"
      ]
     },
     "execution_count": 125,
     "metadata": {},
     "output_type": "execute_result"
    }
   ],
   "source": [
    "'''\n",
    "df['complaint_what_happened_lemma'][1]\n",
    "words = word_tokenize(df['complaint_what_happened_lemma'][1])\n",
    "tagged_words = pos_tag(words)\n",
    "lemmatized_nouns = [lemmatizer.lemmatize(word) for word, tag in tagged_words if tag == 'NN']\n",
    "' '.join(lemmatized_nouns) \n",
    "'''"
   ]
  },
  {
   "cell_type": "code",
   "execution_count": 127,
   "metadata": {},
   "outputs": [],
   "source": [
    "df_clean[\"complaint_POS_removed\"] =  df_clean['complaint_what_happened_lemma'].apply(extract_nouns_column) #this column should contain lemmatized text with all the words removed which have tags other than NN[tag == \"NN\"]."
   ]
  },
  {
   "cell_type": "code",
   "execution_count": 129,
   "metadata": {
    "id": "AjxfchvFJrF2"
   },
   "outputs": [
    {
     "data": {
      "text/html": [
       "<div>\n",
       "<style scoped>\n",
       "    .dataframe tbody tr th:only-of-type {\n",
       "        vertical-align: middle;\n",
       "    }\n",
       "\n",
       "    .dataframe tbody tr th {\n",
       "        vertical-align: top;\n",
       "    }\n",
       "\n",
       "    .dataframe thead th {\n",
       "        text-align: right;\n",
       "    }\n",
       "</style>\n",
       "<table border=\"1\" class=\"dataframe\">\n",
       "  <thead>\n",
       "    <tr style=\"text-align: right;\">\n",
       "      <th></th>\n",
       "      <th>complaint_what_happened_cleaned</th>\n",
       "      <th>complaint_what_happened_lemma</th>\n",
       "      <th>complaint_POS_removed</th>\n",
       "    </tr>\n",
       "  </thead>\n",
       "  <tbody>\n",
       "    <tr>\n",
       "      <th>1</th>\n",
       "      <td>good morning my name is xxxx xxxx and i appreciate it if you could help me put a stop to chase b...</td>\n",
       "      <td>good morning my name is xxxx xxxx and i appreciate it if you could help me put a stop to chase b...</td>\n",
       "      <td>morning name stop bank cardmember service debt verification statement i bank debt mail month deb...</td>\n",
       "    </tr>\n",
       "    <tr>\n",
       "      <th>2</th>\n",
       "      <td>i upgraded my xxxx xxxx card in xx/xx/2018 and was told by the agent who did the upgrade my anni...</td>\n",
       "      <td>i upgraded my xxxx xxxx card in xx/xx/2018 and wa told by the agent who did the upgrade my anniv...</td>\n",
       "      <td>i card wa agent upgrade date agent wa information order account date xx/xx/xxxx consent xxxx rec...</td>\n",
       "    </tr>\n",
       "    <tr>\n",
       "      <th>10</th>\n",
       "      <td>chase card was reported on xx/xx/2019  however  fraudulent application have been submitted my id...</td>\n",
       "      <td>chase card wa reported on xx/xx/2019 however fraudulent application have been submitted my ident...</td>\n",
       "      <td>card wa xx/xx/2019 application identity consent service credit identity applicant</td>\n",
       "    </tr>\n",
       "    <tr>\n",
       "      <th>11</th>\n",
       "      <td>on xx/xx/2018  while trying to book a xxxx  xxxx  ticket  i came across an offer for   300 00  t...</td>\n",
       "      <td>on xx/xx/2018 while trying to book a xxxx xxxx ticket i came across an offer for 300 00 to be ap...</td>\n",
       "      <td>book xxxx ticket i offer ticket card i information offer minute wa screen decision xxxx wa bank ...</td>\n",
       "    </tr>\n",
       "    <tr>\n",
       "      <th>14</th>\n",
       "      <td>my grand son give me check for   1600 00  i deposit it into my chase account after fund clear my...</td>\n",
       "      <td>my grand son give me check for 1600 00 i deposit it into my chase account after fund clear my ch...</td>\n",
       "      <td>son deposit chase account fund chase bank account money son check money wa taking bank refuse mo...</td>\n",
       "    </tr>\n",
       "    <tr>\n",
       "      <th>...</th>\n",
       "      <td>...</td>\n",
       "      <td>...</td>\n",
       "      <td>...</td>\n",
       "    </tr>\n",
       "    <tr>\n",
       "      <th>78303</th>\n",
       "      <td>after being a chase card customer for well over a decade  was offered multiple solicitations for...</td>\n",
       "      <td>after being a chase card customer for well over a decade wa offered multiple solicitation for ac...</td>\n",
       "      <td>chase card customer decade wa solicitation credit card chase airline mile hotel point wa card fe...</td>\n",
       "    </tr>\n",
       "    <tr>\n",
       "      <th>78309</th>\n",
       "      <td>on wednesday  xx/xx/xxxx i called chas  my xxxx xxxx visa credit card provider  and asked how to...</td>\n",
       "      <td>on wednesday xx/xx/xxxx i called chas my xxxx xxxx visa credit card provider and asked how to ma...</td>\n",
       "      <td>xx/xx/xxxx i chas visa credit card provider claim purchase protection benefit xx/xx/xxxx i schoo...</td>\n",
       "    </tr>\n",
       "    <tr>\n",
       "      <th>78310</th>\n",
       "      <td>i am not familiar with xxxx pay and did not understand the great risk this provides to consumers...</td>\n",
       "      <td>i am not familiar with xxxx pay and did not understand the great risk this provides to consumer ...</td>\n",
       "      <td>i pay risk consumer i bank app chase year mobile banking i merchant merchant ha inquiry communic...</td>\n",
       "    </tr>\n",
       "    <tr>\n",
       "      <th>78311</th>\n",
       "      <td>i have had flawless credit for 30 yrs  i ve had chase credit cards    chase freedom    specifica...</td>\n",
       "      <td>i have had flawless credit for 30 yr i ve had chase credit card chase freedom specifically since...</td>\n",
       "      <td>i credit yr i ve credit card chase freedom xxxx problem balance transfer life plenty experience ...</td>\n",
       "    </tr>\n",
       "    <tr>\n",
       "      <th>78312</th>\n",
       "      <td>roughly 10  years ago i closed out my accounts with jp morgan chase bank xxxx in order to close ...</td>\n",
       "      <td>roughly 10 year ago i closed out my account with jp morgan chase bank xxxx in order to close out...</td>\n",
       "      <td>year i account jp bank xxxx order line credit i i account payment i account payment credit repor...</td>\n",
       "    </tr>\n",
       "  </tbody>\n",
       "</table>\n",
       "<p>21072 rows × 3 columns</p>\n",
       "</div>"
      ],
      "text/plain": [
       "                                                                           complaint_what_happened_cleaned  \\\n",
       "1      good morning my name is xxxx xxxx and i appreciate it if you could help me put a stop to chase b...   \n",
       "2      i upgraded my xxxx xxxx card in xx/xx/2018 and was told by the agent who did the upgrade my anni...   \n",
       "10     chase card was reported on xx/xx/2019  however  fraudulent application have been submitted my id...   \n",
       "11     on xx/xx/2018  while trying to book a xxxx  xxxx  ticket  i came across an offer for   300 00  t...   \n",
       "14     my grand son give me check for   1600 00  i deposit it into my chase account after fund clear my...   \n",
       "...                                                                                                    ...   \n",
       "78303  after being a chase card customer for well over a decade  was offered multiple solicitations for...   \n",
       "78309  on wednesday  xx/xx/xxxx i called chas  my xxxx xxxx visa credit card provider  and asked how to...   \n",
       "78310  i am not familiar with xxxx pay and did not understand the great risk this provides to consumers...   \n",
       "78311  i have had flawless credit for 30 yrs  i ve had chase credit cards    chase freedom    specifica...   \n",
       "78312  roughly 10  years ago i closed out my accounts with jp morgan chase bank xxxx in order to close ...   \n",
       "\n",
       "                                                                             complaint_what_happened_lemma  \\\n",
       "1      good morning my name is xxxx xxxx and i appreciate it if you could help me put a stop to chase b...   \n",
       "2      i upgraded my xxxx xxxx card in xx/xx/2018 and wa told by the agent who did the upgrade my anniv...   \n",
       "10     chase card wa reported on xx/xx/2019 however fraudulent application have been submitted my ident...   \n",
       "11     on xx/xx/2018 while trying to book a xxxx xxxx ticket i came across an offer for 300 00 to be ap...   \n",
       "14     my grand son give me check for 1600 00 i deposit it into my chase account after fund clear my ch...   \n",
       "...                                                                                                    ...   \n",
       "78303  after being a chase card customer for well over a decade wa offered multiple solicitation for ac...   \n",
       "78309  on wednesday xx/xx/xxxx i called chas my xxxx xxxx visa credit card provider and asked how to ma...   \n",
       "78310  i am not familiar with xxxx pay and did not understand the great risk this provides to consumer ...   \n",
       "78311  i have had flawless credit for 30 yr i ve had chase credit card chase freedom specifically since...   \n",
       "78312  roughly 10 year ago i closed out my account with jp morgan chase bank xxxx in order to close out...   \n",
       "\n",
       "                                                                                     complaint_POS_removed  \n",
       "1      morning name stop bank cardmember service debt verification statement i bank debt mail month deb...  \n",
       "2      i card wa agent upgrade date agent wa information order account date xx/xx/xxxx consent xxxx rec...  \n",
       "10                       card wa xx/xx/2019 application identity consent service credit identity applicant  \n",
       "11     book xxxx ticket i offer ticket card i information offer minute wa screen decision xxxx wa bank ...  \n",
       "14     son deposit chase account fund chase bank account money son check money wa taking bank refuse mo...  \n",
       "...                                                                                                    ...  \n",
       "78303  chase card customer decade wa solicitation credit card chase airline mile hotel point wa card fe...  \n",
       "78309  xx/xx/xxxx i chas visa credit card provider claim purchase protection benefit xx/xx/xxxx i schoo...  \n",
       "78310  i pay risk consumer i bank app chase year mobile banking i merchant merchant ha inquiry communic...  \n",
       "78311  i credit yr i ve credit card chase freedom xxxx problem balance transfer life plenty experience ...  \n",
       "78312  year i account jp bank xxxx order line credit i i account payment i account payment credit repor...  \n",
       "\n",
       "[21072 rows x 3 columns]"
      ]
     },
     "execution_count": 129,
     "metadata": {},
     "output_type": "execute_result"
    }
   ],
   "source": [
    "#The clean dataframe should now contain the raw complaint, lemmatized complaint and the complaint after removing POS tags.\n",
    "df_clean"
   ]
  },
  {
   "cell_type": "markdown",
   "metadata": {
    "id": "_7Un1AElJrF2"
   },
   "source": [
    "## Exploratory data analysis to get familiar with the data.\n",
    "\n",
    "Write the code in this task to perform the following:\n",
    "\n",
    "*   Visualise the data according to the 'Complaint' character length\n",
    "*   Using a word cloud find the top 40 words by frequency among all the articles after processing the text\n",
    "*   Find the top unigrams,bigrams and trigrams by frequency among all the complaints after processing the text. ‘\n",
    "\n",
    "\n"
   ]
  },
  {
   "cell_type": "code",
   "execution_count": null,
   "metadata": {
    "id": "q-zaqJF6JrF2"
   },
   "outputs": [],
   "source": [
    "# Write your code here to visualise the data according to the 'Complaint' character length"
   ]
  },
  {
   "cell_type": "markdown",
   "metadata": {
    "id": "T9jD_6SeJrF3"
   },
   "source": [
    "#### Find the top 40 words by frequency among all the articles after processing the text."
   ]
  },
  {
   "cell_type": "code",
   "execution_count": null,
   "metadata": {
    "id": "QcfdvtfZJrF3"
   },
   "outputs": [],
   "source": [
    "#Using a word cloud find the top 40 words by frequency among all the articles after processing the text\n"
   ]
  },
  {
   "cell_type": "code",
   "execution_count": null,
   "metadata": {
    "id": "OkSmc3UaJrF4"
   },
   "outputs": [],
   "source": [
    "#Removing -PRON- from the text corpus\n",
    "df_clean['Complaint_clean'] = df_clean['complaint_POS_removed'].str.replace('-PRON-', '')"
   ]
  },
  {
   "cell_type": "markdown",
   "metadata": {
    "id": "5DfCSbbmJrF4"
   },
   "source": [
    "#### Find the top unigrams,bigrams and trigrams by frequency among all the complaints after processing the text."
   ]
  },
  {
   "cell_type": "code",
   "execution_count": null,
   "metadata": {
    "id": "5mbk5DS5JrF4"
   },
   "outputs": [],
   "source": [
    "#Write your code here to find the top 30 unigram frequency among the complaints in the cleaned datafram(df_clean).\n"
   ]
  },
  {
   "cell_type": "code",
   "execution_count": null,
   "metadata": {
    "id": "YX7fedm1JrF8"
   },
   "outputs": [],
   "source": [
    "#Print the top 10 words in the unigram frequency\n"
   ]
  },
  {
   "cell_type": "code",
   "execution_count": null,
   "metadata": {
    "id": "aV7kD7w8JrF8"
   },
   "outputs": [],
   "source": [
    "#Write your code here to find the top 30 bigram frequency among the complaints in the cleaned datafram(df_clean).\n"
   ]
  },
  {
   "cell_type": "code",
   "execution_count": null,
   "metadata": {
    "id": "NPnMNIpyJrF9"
   },
   "outputs": [],
   "source": [
    "#Print the top 10 words in the bigram frequency"
   ]
  },
  {
   "cell_type": "code",
   "execution_count": null,
   "metadata": {
    "id": "Xkh7vtbtJrF-"
   },
   "outputs": [],
   "source": [
    "#Write your code here to find the top 30 trigram frequency among the complaints in the cleaned datafram(df_clean).\n"
   ]
  },
  {
   "cell_type": "code",
   "execution_count": null,
   "metadata": {
    "id": "REcVxNfvJrF-"
   },
   "outputs": [],
   "source": [
    "#Print the top 10 words in the trigram frequency"
   ]
  },
  {
   "cell_type": "markdown",
   "metadata": {
    "id": "yUXzFji0JrF_"
   },
   "source": [
    "## The personal details of customer has been masked in the dataset with xxxx. Let's remove the masked text as this will be of no use for our analysis"
   ]
  },
  {
   "cell_type": "code",
   "execution_count": null,
   "metadata": {
    "id": "wKda-a_IJrF_"
   },
   "outputs": [],
   "source": [
    "df_clean['Complaint_clean'] = df_clean['Complaint_clean'].str.replace('xxxx','')"
   ]
  },
  {
   "cell_type": "code",
   "execution_count": null,
   "metadata": {
    "id": "9UIFk8fQJrF_"
   },
   "outputs": [],
   "source": [
    "#All masked texts has been removed\n",
    "df_clean"
   ]
  },
  {
   "cell_type": "markdown",
   "metadata": {
    "id": "k-I0k0QtJrGA"
   },
   "source": [
    "## Feature Extraction\n",
    "Convert the raw texts to a matrix of TF-IDF features\n",
    "\n",
    "**max_df** is used for removing terms that appear too frequently, also known as \"corpus-specific stop words\"\n",
    "max_df = 0.95 means \"ignore terms that appear in more than 95% of the complaints\"\n",
    "\n",
    "**min_df** is used for removing terms that appear too infrequently\n",
    "min_df = 2 means \"ignore terms that appear in less than 2 complaints\""
   ]
  },
  {
   "cell_type": "code",
   "execution_count": null,
   "metadata": {
    "id": "Y8fGwaCPJrGA"
   },
   "outputs": [],
   "source": [
    "#Write your code here to initialise the TfidfVectorizer\n",
    "\n"
   ]
  },
  {
   "cell_type": "markdown",
   "metadata": {
    "id": "yYzD85nTJrGA"
   },
   "source": [
    "#### Create a document term matrix using fit_transform\n",
    "\n",
    "The contents of a document term matrix are tuples of (complaint_id,token_id) tf-idf score:\n",
    "The tuples that are not there have a tf-idf score of 0"
   ]
  },
  {
   "cell_type": "code",
   "execution_count": null,
   "metadata": {
    "id": "ffzdDpp_JrGB"
   },
   "outputs": [],
   "source": [
    "#Write your code here to create the Document Term Matrix by transforming the complaints column present in df_clean.\n"
   ]
  },
  {
   "cell_type": "markdown",
   "metadata": {
    "id": "7Q9lwvNEJrGB"
   },
   "source": [
    "## Topic Modelling using NMF\n",
    "\n",
    "Non-Negative Matrix Factorization (NMF) is an unsupervised technique so there are no labeling of topics that the model will be trained on. The way it works is that, NMF decomposes (or factorizes) high-dimensional vectors into a lower-dimensional representation. These lower-dimensional vectors are non-negative which also means their coefficients are non-negative.\n",
    "\n",
    "In this task you have to perform the following:\n",
    "\n",
    "* Find the best number of clusters\n",
    "* Apply the best number to create word clusters\n",
    "* Inspect & validate the correction of each cluster wrt the complaints\n",
    "* Correct the labels if needed\n",
    "* Map the clusters to topics/cluster names"
   ]
  },
  {
   "cell_type": "code",
   "execution_count": null,
   "metadata": {
    "id": "amLT4omWJrGB"
   },
   "outputs": [],
   "source": [
    "from sklearn.decomposition import NMF"
   ]
  },
  {
   "cell_type": "markdown",
   "metadata": {
    "id": "0wYR1xUTJrGD"
   },
   "source": [
    "## Manual Topic Modeling\n",
    "You need to do take the trial & error approach to find the best num of topics for your NMF model.\n",
    "\n",
    "The only parameter that is required is the number of components i.e. the number of topics we want. This is the most crucial step in the whole topic modeling process and will greatly affect how good your final topics are."
   ]
  },
  {
   "cell_type": "code",
   "execution_count": null,
   "metadata": {
    "id": "sgd2A6bhJrGD"
   },
   "outputs": [],
   "source": [
    "#Load your nmf_model with the n_components i.e 5\n",
    "num_topics = #write the value you want to test out\n",
    "\n",
    "#keep the random_state =40\n",
    "nmf_model = #write your code here"
   ]
  },
  {
   "cell_type": "code",
   "execution_count": null,
   "metadata": {
    "id": "VPMDYbt_JrGE"
   },
   "outputs": [],
   "source": [
    "nmf_model.fit(dtm)\n",
    "len(tfidf.get_feature_names())"
   ]
  },
  {
   "cell_type": "code",
   "execution_count": null,
   "metadata": {
    "id": "16kRfat5JrGE"
   },
   "outputs": [],
   "source": [
    "#Print the Top15 words for each of the topics\n"
   ]
  },
  {
   "cell_type": "code",
   "execution_count": null,
   "metadata": {
    "id": "0OIT7LmFJrGF"
   },
   "outputs": [],
   "source": [
    "#Create the best topic for each complaint in terms of integer value 0,1,2,3 & 4\n",
    "\n"
   ]
  },
  {
   "cell_type": "code",
   "execution_count": null,
   "metadata": {
    "id": "peyYv-ORJrGF"
   },
   "outputs": [],
   "source": [
    "#Assign the best topic to each of the cmplaints in Topic Column\n",
    "\n",
    "df_clean['Topic'] = #write your code to assign topics to each rows."
   ]
  },
  {
   "cell_type": "code",
   "execution_count": null,
   "metadata": {
    "id": "fLh_Gf3nJrGF"
   },
   "outputs": [],
   "source": [
    "df_clean.head()"
   ]
  },
  {
   "cell_type": "code",
   "execution_count": null,
   "metadata": {
    "id": "aQKpufSPJrGG"
   },
   "outputs": [],
   "source": [
    "#Print the first 5 Complaint for each of the Topics\n",
    "df_clean=df_clean.groupby('Topic').head(5)\n",
    "df_clean.sort_values('Topic')"
   ]
  },
  {
   "cell_type": "markdown",
   "metadata": {
    "id": "piyLxzj6v07j"
   },
   "source": [
    "#### After evaluating the mapping, if the topics assigned are correct then assign these names to the relevant topic:\n",
    "* Bank Account services\n",
    "* Credit card or prepaid card\n",
    "* Theft/Dispute Reporting\n",
    "* Mortgage/Loan\n",
    "* Others"
   ]
  },
  {
   "cell_type": "code",
   "execution_count": null,
   "metadata": {
    "id": "TWpwDG4RJrGG"
   },
   "outputs": [],
   "source": [
    "#Create the dictionary of Topic names and Topics\n",
    "\n",
    "Topic_names = {   }\n",
    "#Replace Topics with Topic Names\n",
    "df_clean['Topic'] = df_clean['Topic'].map(Topic_names)"
   ]
  },
  {
   "cell_type": "code",
   "execution_count": null,
   "metadata": {
    "id": "-2ULY5K6JrGG"
   },
   "outputs": [],
   "source": [
    "df_clean"
   ]
  },
  {
   "cell_type": "markdown",
   "metadata": {
    "id": "7Mu0QBOcJrGH"
   },
   "source": [
    "## Supervised model to predict any new complaints to the relevant Topics.\n",
    "\n",
    "You have now build the model to create the topics for each complaints.Now in the below section you will use them to classify any new complaints.\n",
    "\n",
    "Since you will be using supervised learning technique we have to convert the topic names to numbers(numpy arrays only understand numbers)"
   ]
  },
  {
   "cell_type": "code",
   "execution_count": null,
   "metadata": {
    "id": "_U8J3J8wJrGH"
   },
   "outputs": [],
   "source": [
    "#Create the dictionary again of Topic names and Topics\n",
    "\n",
    "Topic_names = {   }\n",
    "#Replace Topics with Topic Names\n",
    "df_clean['Topic'] = df_clean['Topic'].map(Topic_names)"
   ]
  },
  {
   "cell_type": "code",
   "execution_count": null,
   "metadata": {
    "id": "BWIgJUkQJrGH"
   },
   "outputs": [],
   "source": [
    "df_clean"
   ]
  },
  {
   "cell_type": "code",
   "execution_count": null,
   "metadata": {
    "id": "Xx-FrbkWJrGH"
   },
   "outputs": [],
   "source": [
    "#Keep the columns\"complaint_what_happened\" & \"Topic\" only in the new dataframe --> training_data\n",
    "training_data="
   ]
  },
  {
   "cell_type": "code",
   "execution_count": null,
   "metadata": {
    "id": "lVg2pa12JrGI"
   },
   "outputs": [],
   "source": [
    "training_data"
   ]
  },
  {
   "cell_type": "markdown",
   "metadata": {
    "id": "280Vbqk-7a8M"
   },
   "source": [
    "####Apply the supervised models on the training data created. In this process, you have to do the following:\n",
    "* Create the vector counts using Count Vectoriser\n",
    "* Transform the word vecotr to tf-idf\n",
    "* Create the train & test data using the train_test_split on the tf-idf & topics\n"
   ]
  },
  {
   "cell_type": "code",
   "execution_count": null,
   "metadata": {
    "id": "oUlQpgkzJrGI"
   },
   "outputs": [],
   "source": [
    "\n",
    "#Write your code to get the Vector count\n",
    "\n",
    "\n",
    "#Write your code here to transform the word vector to tf-idf"
   ]
  },
  {
   "cell_type": "markdown",
   "metadata": {
    "id": "uMU3vj6w-wqL"
   },
   "source": [
    "You have to try atleast 3 models on the train & test data from these options:\n",
    "* Logistic regression\n",
    "* Decision Tree\n",
    "* Random Forest\n",
    "* Naive Bayes (optional)\n",
    "\n",
    "**Using the required evaluation metrics judge the tried models and select the ones performing the best**"
   ]
  },
  {
   "cell_type": "code",
   "execution_count": null,
   "metadata": {
    "id": "udLHpPsZJrGI"
   },
   "outputs": [],
   "source": [
    "# Write your code here to build any 3 models and evaluate them using the required metrics\n",
    "\n",
    "\n",
    "\n"
   ]
  },
  {
   "cell_type": "code",
   "execution_count": null,
   "metadata": {
    "id": "N2OznsObJrGP"
   },
   "outputs": [],
   "source": []
  }
 ],
 "metadata": {
  "colab": {
   "collapsed_sections": [
    "T9jD_6SeJrF3",
    "5DfCSbbmJrF4",
    "yYzD85nTJrGA",
    "piyLxzj6v07j",
    "280Vbqk-7a8M"
   ],
   "provenance": []
  },
  "kernelspec": {
   "display_name": "Python 3 (ipykernel)",
   "language": "python",
   "name": "python3"
  },
  "language_info": {
   "codemirror_mode": {
    "name": "ipython",
    "version": 3
   },
   "file_extension": ".py",
   "mimetype": "text/x-python",
   "name": "python",
   "nbconvert_exporter": "python",
   "pygments_lexer": "ipython3",
   "version": "3.12.7"
  }
 },
 "nbformat": 4,
 "nbformat_minor": 4
}
